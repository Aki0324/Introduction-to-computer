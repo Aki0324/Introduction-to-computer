{
  "nbformat": 4,
  "nbformat_minor": 0,
  "metadata": {
    "colab": {
      "name": "0509.ipynb",
      "provenance": [],
      "authorship_tag": "ABX9TyNiWkbN9SrMHicHH3zc3wTh",
      "include_colab_link": true
    },
    "kernelspec": {
      "name": "python3",
      "display_name": "Python 3"
    },
    "language_info": {
      "name": "python"
    }
  },
  "cells": [
    {
      "cell_type": "markdown",
      "metadata": {
        "id": "view-in-github",
        "colab_type": "text"
      },
      "source": [
        "<a href=\"https://colab.research.google.com/github/Aki0324/Introduction-to-computer/blob/main/0509.ipynb\" target=\"_parent\"><img src=\"https://colab.research.google.com/assets/colab-badge.svg\" alt=\"Open In Colab\"/></a>"
      ]
    },
    {
      "cell_type": "code",
      "execution_count": 4,
      "metadata": {
        "colab": {
          "base_uri": "https://localhost:8080/"
        },
        "id": "cUuK8hfDctKz",
        "outputId": "c6040b69-42a3-4c8e-d74e-9bf43713451f"
      },
      "outputs": [
        {
          "output_type": "stream",
          "name": "stdout",
          "text": [
            "請輸入你的體溫37.4\n",
            "體溫略高！\n"
          ]
        }
      ],
      "source": [
        "temp= float(input(\"請輸入你的體溫\"))\n",
        "if temp >= 37.5:\n",
        "  print(\"體溫過高！！\")\n",
        "elif temp >= 37 and temp <37.5:\n",
        "  print(\"體溫略高！\")\n",
        "elif temp>=34 and temp <37:\n",
        "  print(\"體溫正常！\")  \n",
        "else:\n",
        "  print(\"體溫異常，請重新量測！\")"
      ]
    },
    {
      "cell_type": "code",
      "source": [
        "score = float(input(\"請輸入成績\"))\n",
        "if (float(score) >= 90):\n",
        "  print(\"A\")\n",
        "elif (float(score) >= 80):\n",
        "  print(\"B\")\n",
        "elif (float(score) >= 70):\n",
        "  print(\"C\")\n",
        "elif (float(score) >= 60):\n",
        "  print(\"D\")\n",
        "else:\n",
        "  print(\"E\")"
      ],
      "metadata": {
        "colab": {
          "base_uri": "https://localhost:8080/"
        },
        "id": "go-qyah5c5po",
        "outputId": "7ccec3ad-1dff-43f0-d450-a653cea6d0a7"
      },
      "execution_count": 16,
      "outputs": [
        {
          "output_type": "stream",
          "name": "stdout",
          "text": [
            "請輸入成績86.5\n",
            "B\n"
          ]
        }
      ]
    },
    {
      "cell_type": "code",
      "source": [
        "money = float(input(\"請輸入購物金額\"))\n",
        "if (money >= 10000):\n",
        "  if(money >= 100000):\n",
        "    print(\"八折\",money * 0.8,\"元\")\n",
        "  elif(money >= 50000):\n",
        "    print(\"八五折\",money * 0.85,\"元\")\n",
        "  elif(money >= 30000):\n",
        "    print(\"九折\",money * 0.9,\"元\")\n",
        "  else:\n",
        "    print(\"九五折\",money * 0.95,\"元\")\n",
        "else:\n",
        "  print(\"沒打折\",money,\"元\")"
      ],
      "metadata": {
        "colab": {
          "base_uri": "https://localhost:8080/"
        },
        "id": "dcx8Q1_ydkdG",
        "outputId": "db5c6b01-2241-4dfd-ff00-0f5c1c7a3268"
      },
      "execution_count": 20,
      "outputs": [
        {
          "output_type": "stream",
          "name": "stdout",
          "text": [
            "請輸入購物金額120000\n",
            "八折 96000.0 元\n"
          ]
        }
      ]
    },
    {
      "cell_type": "code",
      "source": [
        "month=int(input(\"請輸入月份:\"))\n",
        "if month<1 or month>12 :\n",
        "  print(\"月份不在範圍內!\")\n",
        "elif 3<=month and month<=5:\n",
        "  print(month,\"月是春天!\")\n",
        "elif 6<=month and month<=8:\n",
        "  print(month,\"月是夏天!\")  \n",
        "elif 9<=month and month<=11:\n",
        "  print(month,\"月是秋天!\")\n",
        "else:\n",
        "  print(month,\"月是冬天!\")"
      ],
      "metadata": {
        "colab": {
          "base_uri": "https://localhost:8080/"
        },
        "id": "STfP7VkcedqV",
        "outputId": "27fec1e3-201f-469c-f19c-0885c7049768"
      },
      "execution_count": 8,
      "outputs": [
        {
          "output_type": "stream",
          "name": "stdout",
          "text": [
            "請輸入月份:6\n",
            "6 月是夏天!\n"
          ]
        }
      ]
    },
    {
      "cell_type": "code",
      "source": [
        "ns = float(input(\"請輸入今年收入淨額:\"))\n",
        "if(ns >= 2000000 ):\n",
        "    print(\"付稅金額:\",ns*0.3,\"元\")\n",
        "elif(ns >= 1000000 ):\n",
        "    print(\"付稅金額:\",ns*0.21,\"元\")  \n",
        "elif(ns >= 600000 ):\n",
        "    print(\"付稅金額:\",ns*0.13,\"元\")   \n",
        "elif(ns >= 300000):\n",
        "  print(\"付稅金額:\",ns*0.06,\"元\")\n",
        "else:\n",
        "  print(\"付稅金額:\",0,\"元\")"
      ],
      "metadata": {
        "colab": {
          "base_uri": "https://localhost:8080/"
        },
        "id": "SwKon8RDezfo",
        "outputId": "03594e72-c6fa-4513-8e31-14a688fe9619"
      },
      "execution_count": 11,
      "outputs": [
        {
          "output_type": "stream",
          "name": "stdout",
          "text": [
            "請輸入今年收入淨額:3600786\n",
            "付稅金額: 1080235.8 元\n"
          ]
        }
      ]
    }
  ]
}