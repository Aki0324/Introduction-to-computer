{
  "nbformat": 4,
  "nbformat_minor": 0,
  "metadata": {
    "colab": {
      "name": "Untitled3.ipynb",
      "provenance": [],
      "authorship_tag": "ABX9TyMvFwODoNki3NaGii6TzoEU",
      "include_colab_link": true
    },
    "kernelspec": {
      "name": "python3",
      "display_name": "Python 3"
    },
    "language_info": {
      "name": "python"
    }
  },
  "cells": [
    {
      "cell_type": "markdown",
      "metadata": {
        "id": "view-in-github",
        "colab_type": "text"
      },
      "source": [
        "<a href=\"https://colab.research.google.com/github/Aki0324/Introduction-to-computer/blob/main/Untitled3.ipynb\" target=\"_parent\"><img src=\"https://colab.research.google.com/assets/colab-badge.svg\" alt=\"Open In Colab\"/></a>"
      ]
    },
    {
      "cell_type": "code",
      "execution_count": 20,
      "metadata": {
        "colab": {
          "base_uri": "https://localhost:8080/"
        },
        "id": "M-PvUtWCHh_q",
        "outputId": "b193c03e-56b7-4196-ae18-85624859b44c"
      },
      "outputs": [
        {
          "output_type": "stream",
          "name": "stdout",
          "text": [
            "101\n",
            "賺錢\n"
          ]
        }
      ],
      "source": [
        "expense = {\n",
        "  \"a\":[20,30,55,20],\n",
        "  \"b\":[23,35,40,28],\n",
        "  \"c\":[33,40,50,25]\n",
        "}\n",
        "revenue = {\n",
        "  \"a\":[35,22,45,30],\n",
        "  \"b\":[44,65,60,58],\n",
        "  \"c\":[27,46,37,38]\n",
        "}\n",
        "\n",
        "add_expens=0\n",
        "for i in expense[\"b\"]:\n",
        "  add_expens+=i\n",
        "\n",
        "add_revenue=0\n",
        "for i in revenue[\"b\"]:\n",
        "  add_revenue+=i\n",
        "\n",
        "ans=add_revenue-add_expens\n",
        "print(ans)\n",
        "\n",
        "if ans>0:\n",
        "  print(\"賺錢\")\n",
        "elif ans<0:\n",
        "  print(\"虧錢\")\n",
        "else:\n",
        "  print(\"不賺不賠\")"
      ]
    }
  ]
}